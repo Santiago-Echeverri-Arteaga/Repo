{
  "cells": [
    {
      "cell_type": "markdown",
      "metadata": {
        "colab_type": "text",
        "id": "view-in-github"
      },
      "source": [
        "<a href=\"https://colab.research.google.com/github/Santiago-Echeverri-Arteaga/Repo/blob/master/Prueba.ipynb\" target=\"_parent\"><img src=\"https://colab.research.google.com/assets/colab-badge.svg\" alt=\"Open In Colab\"/></a>"
      ]
    },
    {
      "cell_type": "markdown",
      "metadata": {
        "id": "HvJjdA8DnYDl"
      },
      "source": [
        "# **Titulo**"
      ]
    },
    {
      "cell_type": "code",
      "execution_count": 2,
      "metadata": {
        "colab": {
          "base_uri": "https://localhost:8080/"
        },
        "id": "L8Iyo6Q8naNQ",
        "outputId": "08e8a4e9-6d93-497c-a37e-2a9946fc898c"
      },
      "outputs": [
        {
          "name": "stdout",
          "output_type": "stream",
          "text": [
            "Hola Mundo\n"
          ]
        }
      ],
      "source": [
        "print(\"Hola Mundo\")"
      ]
    },
    {
      "cell_type": "markdown",
      "metadata": {},
      "source": [
        "Hablo de lo que estoy haciendo con mi **vector** `class`"
      ]
    },
    {
      "cell_type": "code",
      "execution_count": 78,
      "metadata": {},
      "outputs": [],
      "source": [
        "class vector():\n",
        "    \"\"\"Clase vector que no hace nada :(\n",
        "    \"\"\"\n",
        "    def __init__(self, coordenada_x:float, coordenada_y:float, coordenada_z=0):\n",
        "        \"\"\"Constructor bla bla bla\n",
        "        \"\"\"\n",
        "        self.x = coordenada_x\n",
        "        self.y = coordenada_y\n",
        "        self.z = coordenada_z\n",
        "        self.modulo = self.modulo()\n",
        "        self.angulo = self.angulo()\n",
        "    def ProductoEscalar(self,other):\n",
        "        \"\"\"ProductoEscalar entre dos vectores\n",
        "        \"\"\"\n",
        "        return(self.x*other.x + self.y*other.y + self.z*other.z)\n",
        "    def __str__(self):\n",
        "        return(\"(\" + str(self.x) + \",\" + str(self.y)+ \",\" + str(self.z) + \")\")\n",
        "    def __add__(self,other:vector):\n",
        "        resultado = vector(self.x+other.x,self.y+other.y, self.z+other.z)\n",
        "        return(resultado)\n",
        "    def modulo(self):\n",
        "        \"\"\"Calcula el módulo del vector\n",
        "        \"\"\"\n",
        "        from math import sqrt\n",
        "        return(sqrt(self.x**2+self.y**2+self.z**2))\n",
        "    def angulo(self):\n",
        "        \"\"\"Calcula el ángulo del vector\n",
        "        \"\"\"\n",
        "        from math import atan2\n",
        "        return(atan2(self.y,self.x))"
      ]
    },
    {
      "cell_type": "code",
      "execution_count": 63,
      "metadata": {},
      "outputs": [
        {
          "name": "stdout",
          "output_type": "stream",
          "text": [
            "helloworld12\n"
          ]
        }
      ],
      "source": [
        "print(\"hello\"+\"world\"+str(12))"
      ]
    },
    {
      "cell_type": "code",
      "execution_count": 48,
      "metadata": {},
      "outputs": [
        {
          "name": "stdout",
          "output_type": "stream",
          "text": [
            "Help on built-in function atan2 in module math:\n",
            "\n",
            "atan2(y, x, /)\n",
            "    Return the arc tangent (measured in radians) of y/x.\n",
            "    \n",
            "    Unlike atan(y/x), the signs of both x and y are considered.\n",
            "\n"
          ]
        }
      ],
      "source": [
        "from math import atan2\n",
        "help(atan2)"
      ]
    },
    {
      "cell_type": "code",
      "execution_count": 80,
      "metadata": {},
      "outputs": [
        {
          "name": "stdout",
          "output_type": "stream",
          "text": [
            "213.17832910500073\n",
            "2262\n",
            "0\n",
            "3\n"
          ]
        }
      ],
      "source": [
        "a=vector(12,15)\n",
        "b=vector(1,150,3)\n",
        "c=vector(15,4)\n",
        "d=vector(13,15)\n",
        "e=vector(1,25)\n",
        "resultante = a+b+c+d+e\n",
        "print(resultante.modulo)\n",
        "print(a.ProductoEscalar(b))\n",
        "print(a.z)\n",
        "print(b.z)"
      ]
    },
    {
      "cell_type": "code",
      "execution_count": null,
      "metadata": {},
      "outputs": [],
      "source": []
    }
  ],
  "metadata": {
    "colab": {
      "authorship_tag": "ABX9TyPrbAAt1j3/3LwLL9vZHur4",
      "include_colab_link": true,
      "provenance": []
    },
    "kernelspec": {
      "display_name": "Python 3.10 (tensorflow)",
      "language": "python",
      "name": "tensorflow"
    },
    "language_info": {
      "codemirror_mode": {
        "name": "ipython",
        "version": 3
      },
      "file_extension": ".py",
      "mimetype": "text/x-python",
      "name": "python",
      "nbconvert_exporter": "python",
      "pygments_lexer": "ipython3",
      "version": "3.10.9"
    }
  },
  "nbformat": 4,
  "nbformat_minor": 0
}
